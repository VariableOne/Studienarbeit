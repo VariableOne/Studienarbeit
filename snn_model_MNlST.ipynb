{
 "cells": [
  {
   "cell_type": "markdown",
   "metadata": {},
   "source": [
    "# Implementierung eines SNN und CNN: Ein Vergleich mit dem MNIST-Datensatz\n",
    "\n",
    "\n",
    "*Author: Ümmühan Ay*"
   ]
  },
  {
   "cell_type": "markdown",
   "metadata": {},
   "source": [
    "Schritt 1: Alle nötigen Imports importieren"
   ]
  },
  {
   "cell_type": "code",
   "execution_count": 1,
   "metadata": {},
   "outputs": [],
   "source": [
    "import torch\n",
    "import torch.nn as nn\n",
    "import torch.nn.functional as F\n",
    "from torch.utils.data import DataLoader\n",
    "from torchvision import datasets, transforms\n",
    "import torch\n",
    "from torch.utils.data import DataLoader\n",
    "from torchvision import transforms\n",
    "import time"
   ]
  },
  {
   "cell_type": "markdown",
   "metadata": {},
   "source": [
    "Schritt 2: Cuda benutzen"
   ]
  },
  {
   "cell_type": "code",
   "execution_count": 2,
   "metadata": {},
   "outputs": [],
   "source": [
    "device = torch.device(\"cuda\")"
   ]
  },
  {
   "cell_type": "markdown",
   "metadata": {},
   "source": [
    "Schritt 3: Implementierung des SNN und des LIF"
   ]
  },
  {
   "cell_type": "code",
   "execution_count": 3,
   "metadata": {},
   "outputs": [],
   "source": [
    "class SurrogateSpike(torch.autograd.Function):\n",
    "    @staticmethod\n",
    "    def forward(ctx, input):\n",
    "        ctx.save_for_backward(input)\n",
    "        return (input > 0).float()\n",
    "\n",
    "    @staticmethod\n",
    "    def backward(ctx, grad_output):\n",
    "        input, = ctx.saved_tensors\n",
    "        surrogate_grad = torch.exp(-input.abs())  # Glatte Ableitung\n",
    "        return grad_output * surrogate_grad\n",
    "\n",
    "spike_fn = SurrogateSpike.apply"
   ]
  },
  {
   "cell_type": "code",
   "execution_count": 4,
   "metadata": {},
   "outputs": [],
   "source": [
    "class SNN(nn.Module):\n",
    "    def __init__(self, input_size, hidden_size, output_size, v_rest=-65.0, v_thresh=-50.0, v_reset=-65.0, tau_mem=10.0):\n",
    "        super(SNN, self).__init__()\n",
    "        self.input_size = input_size\n",
    "        self.hidden_size = hidden_size\n",
    "        self.v_rest = v_rest\n",
    "        self.v_thresh = v_thresh\n",
    "        self.v_reset = v_reset\n",
    "        self.tau_mem = tau_mem\n",
    "\n",
    "        self.synapse_weights = nn.Parameter(torch.randn(input_size, hidden_size) * 0.1)\n",
    "        self.fc2 = nn.Linear(hidden_size, output_size)\n",
    "        self.batch_norm = nn.BatchNorm1d(hidden_size)\n",
    "\n",
    "    def forward(self, x, dt=1e-3):\n",
    "        batch_size, time_steps, _ = x.shape\n",
    "        v_hidden = torch.full((batch_size, self.hidden_size), self.v_rest, device=x.device)\n",
    "        spikes_out = torch.zeros(batch_size, time_steps, self.hidden_size, device=x.device)\n",
    "\n",
    "        for t in range(time_steps):\n",
    "            z_pre = x[:, t, :]  # (B, input_size)\n",
    "            v_hidden += (self.v_rest - v_hidden) * (dt / self.tau_mem) + torch.matmul(z_pre, self.synapse_weights)\n",
    "            z_post = spike_fn(v_hidden - self.v_thresh)\n",
    "            v_hidden = torch.where(z_post > 0, torch.tensor(self.v_reset, device=x.device), v_hidden)\n",
    "            spikes_out[:, t, :] = z_post\n",
    "\n",
    "        spikes_sum = spikes_out.sum(dim=1)\n",
    "        spikes_bn = self.batch_norm(spikes_sum)\n",
    "        output = self.fc2(spikes_bn)\n",
    "        return output"
   ]
  },
  {
   "cell_type": "markdown",
   "metadata": {},
   "source": [
    "Schritt 4: MNIST-Datensatz laden"
   ]
  },
  {
   "cell_type": "markdown",
   "metadata": {},
   "source": [
    "Test mit MNIST"
   ]
  },
  {
   "cell_type": "markdown",
   "metadata": {},
   "source": [
    "Test mit Kanji-Datensatz"
   ]
  },
  {
   "cell_type": "code",
   "execution_count": 5,
   "metadata": {},
   "outputs": [],
   "source": [
    "from torch.utils.data import Subset\n",
    "\n",
    "batch_size = 32\n",
    "time_steps = 50\n",
    "\n",
    "transform = transforms.Compose([\n",
    "    transforms.RandomHorizontalFlip(),\n",
    "    transforms.RandomCrop(32, padding=4),\n",
    "    transforms.Resize((32, 32)),\n",
    "    transforms.ToTensor(),\n",
    "    transforms.Normalize(mean=[0.4914, 0.4822, 0.4465], std=[0.2023, 0.1994, 0.2010])\n",
    "])\n",
    "\n",
    "transform = transforms.Compose([transforms.ToTensor()])\n",
    "train_dataset = datasets.MNIST(root='./data', train=True, transform=transform, download=True)\n",
    "subset_size = 900\n",
    "train_dataset = torch.utils.data.Subset(train_dataset, range(subset_size))\n",
    "train_loader = DataLoader(train_dataset, batch_size=batch_size, shuffle=True, num_workers=4, pin_memory=True)\n",
    "\n",
    "test_subset_size = 100\n",
    "test_dataset = datasets.MNIST(root='./data', train=False, download=True, transform=transform)\n",
    "test_dataset = torch.utils.data.Subset(test_dataset, range(test_subset_size))\n",
    "test_loader = DataLoader(test_dataset, batch_size=batch_size, shuffle=False)\n",
    "\n",
    "def image_to_spikes(images, time_steps, threshold=0.0):\n",
    "    images = images.view(images.size(0), -1)  # (B, 3072)\n",
    "    spikes = torch.zeros((images.size(0), time_steps, images.size(1)), device=images.device)\n",
    "    for t in range(time_steps):\n",
    "        spikes[:, t, :] = (images > threshold).float()\n",
    "    return spikes"
   ]
  },
  {
   "cell_type": "markdown",
   "metadata": {},
   "source": [
    "Schritt 5: CNN erstellen"
   ]
  },
  {
   "cell_type": "code",
   "execution_count": 6,
   "metadata": {},
   "outputs": [],
   "source": [
    "import torch.nn as nn\n",
    "import torch.nn.functional as F\n",
    "\n",
    "class SimpleCNN(nn.Module):\n",
    "    def __init__(self):\n",
    "        super(SimpleCNN, self).__init__()\n",
    "        self.conv1 = nn.Conv2d(1, 16, kernel_size=3, padding=1)  # 1 Kanal (nicht 3!)\n",
    "        self.conv2 = nn.Conv2d(16, 32, kernel_size=3, padding=1)\n",
    "        self.conv3 = nn.Conv2d(32, 64, kernel_size=3, padding=1)\n",
    "\n",
    "        self.pool = nn.MaxPool2d(2, 2)\n",
    "        \n",
    "        # Feature Map-Größe nach 3x Pooling mit Kernel 2: 28 → 14 → 7 → 3 (eigentlich 3x3)\n",
    "        self.fc1 = nn.Linear(64 * 3 * 3, 512)\n",
    "        self.fc2 = nn.Linear(512, 10)\n",
    "\n",
    "        self.dropout = nn.Dropout(0.5)\n",
    "\n",
    "        self.bn1 = nn.BatchNorm2d(16)\n",
    "        self.bn2 = nn.BatchNorm2d(32)\n",
    "        self.bn3 = nn.BatchNorm2d(64)\n",
    "\n",
    "    def forward(self, x):\n",
    "        x = self.pool(F.relu(self.bn1(self.conv1(x))))  # 28x28 → 14x14\n",
    "        x = self.pool(F.relu(self.bn2(self.conv2(x))))  # 14x14 → 7x7\n",
    "        x = self.pool(F.relu(self.bn3(self.conv3(x))))  # 7x7 → 3x3\n",
    "\n",
    "        x = x.view(x.size(0), -1)  # Flatten: 64 * 3 * 3\n",
    "        x = F.relu(self.fc1(x))\n",
    "        x = self.dropout(x)\n",
    "        x = self.fc2(x)\n",
    "        return x\n"
   ]
  },
  {
   "cell_type": "markdown",
   "metadata": {},
   "source": [
    "6. Hyperparameter, Loss-Funktion und Optimizer definieren"
   ]
  },
  {
   "cell_type": "code",
   "execution_count": 7,
   "metadata": {},
   "outputs": [],
   "source": [
    "# Hyperparameter\n",
    "input_size = 784\n",
    "hidden_size = 3072\n",
    "output_size = 10\n",
    "epochs = 100\n",
    "time_steps = 50\n",
    "\n",
    "snn_model = SNN(input_size=input_size, hidden_size=hidden_size, output_size=output_size).to(device)\n",
    "cnn_model = SimpleCNN().to(device)\n",
    "\n",
    "snn_optimizer = torch.optim.Adam(snn_model.parameters(), lr=0.001)\n",
    "cnn_optimizer = torch.optim.Adam(cnn_model.parameters(), lr=0.001)\n",
    "\n",
    "snn_loss_fn = torch.nn.CrossEntropyLoss()\n",
    "cnn_loss_fn = torch.nn.CrossEntropyLoss()"
   ]
  },
  {
   "cell_type": "code",
   "execution_count": 8,
   "metadata": {},
   "outputs": [],
   "source": [
    "start = time.time()\n",
    "\n",
    "torch.cuda.reset_peak_memory_stats()\n",
    "torch.cuda.synchronize()\n",
    "start_memory = torch.cuda.memory_allocated()"
   ]
  },
  {
   "cell_type": "markdown",
   "metadata": {},
   "source": [
    "7. Training SNN"
   ]
  },
  {
   "cell_type": "code",
   "execution_count": 9,
   "metadata": {},
   "outputs": [
    {
     "name": "stdout",
     "output_type": "stream",
     "text": [
      "Epoch 1 Loss: 0.9356\n",
      "Epoch 2 Loss: 0.1667\n",
      "Epoch 3 Loss: 0.1446\n",
      "Epoch 4 Loss: 0.0237\n",
      "Epoch 5 Loss: 0.0255\n",
      "Epoch 6 Loss: 0.0139\n",
      "Epoch 7 Loss: 0.3699\n",
      "Epoch 8 Loss: 0.4406\n",
      "Epoch 9 Loss: 0.1846\n",
      "Epoch 10 Loss: 0.2875\n",
      "Epoch 11 Loss: 0.0598\n",
      "Epoch 12 Loss: 0.1279\n",
      "Epoch 13 Loss: 0.0063\n",
      "Epoch 14 Loss: 0.7614\n",
      "Epoch 15 Loss: 0.2472\n",
      "Epoch 16 Loss: 0.0940\n",
      "Epoch 17 Loss: 0.0195\n",
      "Epoch 18 Loss: 0.0005\n",
      "Epoch 19 Loss: 1.4516\n",
      "Epoch 20 Loss: 0.0287\n",
      "Epoch 21 Loss: 0.1833\n",
      "Epoch 22 Loss: 0.3600\n",
      "Epoch 23 Loss: 0.1041\n",
      "Epoch 24 Loss: 0.0008\n",
      "Epoch 25 Loss: 0.0057\n",
      "Epoch 26 Loss: 1.5339\n",
      "Epoch 27 Loss: 0.0371\n",
      "Epoch 28 Loss: 0.0007\n",
      "Epoch 29 Loss: 0.0005\n",
      "Epoch 30 Loss: 0.2681\n",
      "Epoch 31 Loss: 0.0417\n",
      "Epoch 32 Loss: 0.4907\n",
      "Epoch 33 Loss: 0.7911\n",
      "Epoch 34 Loss: 0.4092\n",
      "Epoch 35 Loss: 0.0163\n",
      "Epoch 36 Loss: 0.0152\n",
      "Epoch 37 Loss: 0.0185\n",
      "Epoch 38 Loss: 0.2597\n",
      "Epoch 39 Loss: 0.0003\n",
      "Epoch 40 Loss: 2.4015\n",
      "Epoch 41 Loss: 0.0073\n",
      "Epoch 42 Loss: 0.0137\n",
      "Epoch 43 Loss: 0.0289\n",
      "Epoch 44 Loss: 0.0216\n",
      "Epoch 45 Loss: 0.8992\n",
      "Epoch 46 Loss: 1.0153\n",
      "Epoch 47 Loss: 0.3225\n",
      "Epoch 48 Loss: 0.0157\n",
      "Epoch 49 Loss: 0.0002\n",
      "Epoch 50 Loss: 0.0034\n",
      "Epoch 51 Loss: 0.0003\n",
      "Epoch 52 Loss: 0.1002\n",
      "Epoch 53 Loss: 0.1343\n",
      "Epoch 54 Loss: 0.0584\n",
      "Epoch 55 Loss: 1.0738\n",
      "Epoch 56 Loss: 0.0006\n",
      "Epoch 57 Loss: 0.0020\n",
      "Epoch 58 Loss: 1.7201\n",
      "Epoch 59 Loss: 0.0266\n",
      "Epoch 60 Loss: 0.0003\n",
      "Epoch 61 Loss: 0.1359\n",
      "Epoch 62 Loss: 0.0980\n",
      "Epoch 63 Loss: 0.0019\n",
      "Epoch 64 Loss: 0.0001\n",
      "Epoch 65 Loss: 0.0055\n",
      "Epoch 66 Loss: 0.1525\n",
      "Epoch 67 Loss: 0.0002\n",
      "Epoch 68 Loss: 0.0012\n",
      "Epoch 69 Loss: 0.0016\n",
      "Epoch 70 Loss: 0.0005\n",
      "Epoch 71 Loss: 0.0006\n",
      "Epoch 72 Loss: 1.1166\n",
      "Epoch 73 Loss: 0.0160\n",
      "Epoch 74 Loss: 0.0007\n",
      "Epoch 75 Loss: 0.0055\n",
      "Epoch 76 Loss: 0.0353\n",
      "Epoch 77 Loss: 0.0002\n",
      "Epoch 78 Loss: 0.1104\n",
      "Epoch 79 Loss: 0.0014\n",
      "Epoch 80 Loss: 0.0015\n",
      "Epoch 81 Loss: 0.0176\n",
      "Epoch 82 Loss: 2.5871\n",
      "Epoch 83 Loss: 0.0081\n",
      "Epoch 84 Loss: 0.0622\n",
      "Epoch 85 Loss: 0.0067\n",
      "Epoch 86 Loss: 0.0125\n",
      "Epoch 87 Loss: 0.5839\n",
      "Epoch 88 Loss: 0.3459\n",
      "Epoch 89 Loss: 0.0277\n",
      "Epoch 90 Loss: 0.0003\n",
      "Epoch 91 Loss: 0.0370\n",
      "Epoch 92 Loss: 0.0517\n",
      "Epoch 93 Loss: 1.8563\n",
      "Epoch 94 Loss: 0.0018\n",
      "Epoch 95 Loss: 0.0004\n",
      "Epoch 96 Loss: 0.1816\n",
      "Epoch 97 Loss: 0.0058\n",
      "Epoch 98 Loss: 0.0468\n",
      "Epoch 99 Loss: 0.0014\n",
      "Epoch 100 Loss: 0.0025\n"
     ]
    }
   ],
   "source": [
    "for epoch in range(epochs):\n",
    "    for images, labels in train_loader:\n",
    "        images = images.to(device)\n",
    "        labels = labels.to(device)\n",
    "\n",
    "        # Spikes generieren\n",
    "        spike_input = image_to_spikes(images, time_steps, threshold=0.0)\n",
    "\n",
    "        # Forward + Loss\n",
    "        outputs = snn_model(spike_input)\n",
    "        loss = snn_loss_fn(outputs, labels)\n",
    "\n",
    "        # Backward + Optimierung\n",
    "        snn_optimizer.zero_grad()\n",
    "        loss.backward()\n",
    "        snn_optimizer.step()\n",
    "\n",
    "    print(f\"Epoch {epoch+1} Loss: {loss.item():.4f}\")"
   ]
  },
  {
   "cell_type": "code",
   "execution_count": 10,
   "metadata": {},
   "outputs": [
    {
     "name": "stdout",
     "output_type": "stream",
     "text": [
      "Trainingszeit: 850.95 Sekunden\n",
      "Maximale GPU-Speichernutzung: 127.33 MB\n"
     ]
    }
   ],
   "source": [
    "torch.cuda.synchronize()\n",
    "end = time.time()\n",
    "end_memory = torch.cuda.max_memory_allocated()\n",
    "\n",
    "print(f\"Trainingszeit: {end - start:.2f} Sekunden\")\n",
    "print(f\"Maximale GPU-Speichernutzung: {end_memory / 1e6:.2f} MB\")"
   ]
  },
  {
   "cell_type": "markdown",
   "metadata": {},
   "source": [
    "8. CNN trainieren"
   ]
  },
  {
   "cell_type": "code",
   "execution_count": 11,
   "metadata": {},
   "outputs": [
    {
     "name": "stdout",
     "output_type": "stream",
     "text": [
      "Epoch [1/100], CNN Loss: 1.5957\n",
      "Epoch [2/100], CNN Loss: 0.6279\n",
      "Epoch [3/100], CNN Loss: 0.3081\n",
      "Epoch [4/100], CNN Loss: 0.1850\n",
      "Epoch [5/100], CNN Loss: 0.1448\n",
      "Epoch [6/100], CNN Loss: 0.0914\n",
      "Epoch [7/100], CNN Loss: 0.0562\n",
      "Epoch [8/100], CNN Loss: 0.0359\n",
      "Epoch [9/100], CNN Loss: 0.0317\n",
      "Epoch [10/100], CNN Loss: 0.0205\n",
      "Epoch [11/100], CNN Loss: 0.0140\n",
      "Epoch [12/100], CNN Loss: 0.0148\n",
      "Epoch [13/100], CNN Loss: 0.0111\n",
      "Epoch [14/100], CNN Loss: 0.0105\n",
      "Epoch [15/100], CNN Loss: 0.0145\n",
      "Epoch [16/100], CNN Loss: 0.0114\n",
      "Epoch [17/100], CNN Loss: 0.0119\n",
      "Epoch [18/100], CNN Loss: 0.0096\n",
      "Epoch [19/100], CNN Loss: 0.0070\n",
      "Epoch [20/100], CNN Loss: 0.0044\n",
      "Epoch [21/100], CNN Loss: 0.0092\n",
      "Epoch [22/100], CNN Loss: 0.0931\n",
      "Epoch [23/100], CNN Loss: 0.0408\n",
      "Epoch [24/100], CNN Loss: 0.0443\n",
      "Epoch [25/100], CNN Loss: 0.0134\n",
      "Epoch [26/100], CNN Loss: 0.0086\n",
      "Epoch [27/100], CNN Loss: 0.0035\n",
      "Epoch [28/100], CNN Loss: 0.0027\n",
      "Epoch [29/100], CNN Loss: 0.0013\n",
      "Epoch [30/100], CNN Loss: 0.0013\n",
      "Epoch [31/100], CNN Loss: 0.0016\n",
      "Epoch [32/100], CNN Loss: 0.0009\n",
      "Epoch [33/100], CNN Loss: 0.0007\n",
      "Epoch [34/100], CNN Loss: 0.0007\n",
      "Epoch [35/100], CNN Loss: 0.0014\n",
      "Epoch [36/100], CNN Loss: 0.0009\n",
      "Epoch [37/100], CNN Loss: 0.0007\n",
      "Epoch [38/100], CNN Loss: 0.0003\n",
      "Epoch [39/100], CNN Loss: 0.0005\n",
      "Epoch [40/100], CNN Loss: 0.0008\n",
      "Epoch [41/100], CNN Loss: 0.0004\n",
      "Epoch [42/100], CNN Loss: 0.0006\n",
      "Epoch [43/100], CNN Loss: 0.0004\n",
      "Epoch [44/100], CNN Loss: 0.0004\n",
      "Epoch [45/100], CNN Loss: 0.0003\n",
      "Epoch [46/100], CNN Loss: 0.0004\n",
      "Epoch [47/100], CNN Loss: 0.0003\n",
      "Epoch [48/100], CNN Loss: 0.0004\n",
      "Epoch [49/100], CNN Loss: 0.0004\n",
      "Epoch [50/100], CNN Loss: 0.0005\n",
      "Epoch [51/100], CNN Loss: 0.0002\n",
      "Epoch [52/100], CNN Loss: 0.0003\n",
      "Epoch [53/100], CNN Loss: 0.0002\n",
      "Epoch [54/100], CNN Loss: 0.0007\n",
      "Epoch [55/100], CNN Loss: 0.0003\n",
      "Epoch [56/100], CNN Loss: 0.0002\n",
      "Epoch [57/100], CNN Loss: 0.0002\n",
      "Epoch [58/100], CNN Loss: 0.0004\n",
      "Epoch [59/100], CNN Loss: 0.0003\n",
      "Epoch [60/100], CNN Loss: 0.0003\n",
      "Epoch [61/100], CNN Loss: 0.0002\n",
      "Epoch [62/100], CNN Loss: 0.0002\n",
      "Epoch [63/100], CNN Loss: 0.0001\n",
      "Epoch [64/100], CNN Loss: 0.0001\n",
      "Epoch [65/100], CNN Loss: 0.0003\n",
      "Epoch [66/100], CNN Loss: 0.0003\n",
      "Epoch [67/100], CNN Loss: 0.0002\n",
      "Epoch [68/100], CNN Loss: 0.0002\n",
      "Epoch [69/100], CNN Loss: 0.0001\n",
      "Epoch [70/100], CNN Loss: 0.0001\n",
      "Epoch [71/100], CNN Loss: 0.0002\n",
      "Epoch [72/100], CNN Loss: 0.0003\n",
      "Epoch [73/100], CNN Loss: 0.0002\n",
      "Epoch [74/100], CNN Loss: 0.0003\n",
      "Epoch [75/100], CNN Loss: 0.0002\n",
      "Epoch [76/100], CNN Loss: 0.0002\n",
      "Epoch [77/100], CNN Loss: 0.0001\n",
      "Epoch [78/100], CNN Loss: 0.0001\n",
      "Epoch [79/100], CNN Loss: 0.0003\n",
      "Epoch [80/100], CNN Loss: 0.0001\n",
      "Epoch [81/100], CNN Loss: 0.0002\n",
      "Epoch [82/100], CNN Loss: 0.0019\n",
      "Epoch [83/100], CNN Loss: 0.0028\n",
      "Epoch [84/100], CNN Loss: 0.0529\n",
      "Epoch [85/100], CNN Loss: 0.1584\n",
      "Epoch [86/100], CNN Loss: 0.1909\n",
      "Epoch [87/100], CNN Loss: 0.1108\n",
      "Epoch [88/100], CNN Loss: 0.0262\n",
      "Epoch [89/100], CNN Loss: 0.0050\n",
      "Epoch [90/100], CNN Loss: 0.0080\n",
      "Epoch [91/100], CNN Loss: 0.0034\n",
      "Epoch [92/100], CNN Loss: 0.0019\n",
      "Epoch [93/100], CNN Loss: 0.0026\n",
      "Epoch [94/100], CNN Loss: 0.0056\n",
      "Epoch [95/100], CNN Loss: 0.0394\n",
      "Epoch [96/100], CNN Loss: 0.0180\n",
      "Epoch [97/100], CNN Loss: 0.0088\n",
      "Epoch [98/100], CNN Loss: 0.0164\n",
      "Epoch [99/100], CNN Loss: 0.0043\n",
      "Epoch [100/100], CNN Loss: 0.0029\n"
     ]
    }
   ],
   "source": [
    "# CNN trainieren\n",
    "for epoch in range(epochs):\n",
    "    cnn_model.train()\n",
    "    running_loss = 0.0\n",
    "    \n",
    "    for images, labels in train_loader:\n",
    "        images = images.to(device)\n",
    "        labels = labels.to(device)\n",
    "\n",
    "        outputs = cnn_model(images)\n",
    "        \n",
    "        cnn_loss = cnn_loss_fn(outputs, labels)\n",
    "        cnn_optimizer.zero_grad()\n",
    "        cnn_loss.backward()\n",
    "        cnn_optimizer.step()\n",
    "        \n",
    "        running_loss += cnn_loss.item()\n",
    "    \n",
    "    print(f'Epoch [{epoch+1}/{epochs}], CNN Loss: {running_loss/len(train_loader):.4f}')"
   ]
  },
  {
   "cell_type": "code",
   "execution_count": 12,
   "metadata": {},
   "outputs": [
    {
     "name": "stdout",
     "output_type": "stream",
     "text": [
      "Trainingszeit: 1511.54 Sekunden\n",
      "Maximale GPU-Speichernutzung: 127.33 MB\n"
     ]
    }
   ],
   "source": [
    "torch.cuda.synchronize()\n",
    "end = time.time()\n",
    "end_memory = torch.cuda.max_memory_allocated()\n",
    "\n",
    "print(f\"Trainingszeit: {end - start:.2f} Sekunden\")\n",
    "print(f\"Maximale GPU-Speichernutzung: {end_memory / 1e6:.2f} MB\")"
   ]
  },
  {
   "cell_type": "markdown",
   "metadata": {},
   "source": [
    "9. SNN Evaluieren"
   ]
  },
  {
   "cell_type": "code",
   "execution_count": 13,
   "metadata": {},
   "outputs": [
    {
     "data": {
      "image/png": "[encoded data removed]",
      "text/plain": [
       "<Figure size 640x480 with 1 Axes>"
      ]
     },
     "metadata": {},
     "output_type": "display_data"
    },
    {
     "name": "stdout",
     "output_type": "stream",
     "text": [
      "Accuracy (SNN): 89.00%\n",
      "F = 0.000, p = 1.000\n",
      "              precision    recall  f1-score   support\n",
      "\n",
      "           0       1.00      1.00      1.00         8\n",
      "           1       1.00      0.93      0.96        14\n",
      "           2       0.73      1.00      0.84         8\n",
      "           3       0.83      0.91      0.87        11\n",
      "           4       0.93      0.93      0.93        14\n",
      "           5       1.00      0.57      0.73         7\n",
      "           6       1.00      0.90      0.95        10\n",
      "           7       0.92      0.73      0.81        15\n",
      "           8       0.50      1.00      0.67         2\n",
      "           9       0.85      1.00      0.92        11\n",
      "\n",
      "    accuracy                           0.89       100\n",
      "   macro avg       0.88      0.90      0.87       100\n",
      "weighted avg       0.91      0.89      0.89       100\n",
      "\n"
     ]
    }
   ],
   "source": [
    "from sklearn.metrics import classification_report\n",
    "import numpy as np\n",
    "from matplotlib import pyplot as plt\n",
    "from scipy.stats import f_oneway\n",
    "\n",
    "snn_model.eval()\n",
    "correct = 0\n",
    "total = 0\n",
    "loss_values = []\n",
    "\n",
    "all_preds = []\n",
    "all_labels = []\n",
    "\n",
    "with torch.no_grad():\n",
    "    for images, labels in test_loader:\n",
    "        images = images.view(images.size(0), -1).to(device)\n",
    "        spikes = image_to_spikes(images, time_steps).to(device)\n",
    "\n",
    "        outputs = snn_model(spikes)\n",
    "        loss = snn_loss_fn(outputs, labels.to(device))\n",
    "        loss_values.append(loss.item())\n",
    "\n",
    "        _, predicted = torch.max(outputs, 1)\n",
    "\n",
    "        total += labels.size(0)\n",
    "        correct += (predicted == labels.to(device)).sum().item()\n",
    "\n",
    "        # Wichtig: Auf CPU bringen und zu Listen hinzufügen\n",
    "        all_preds.extend(predicted.cpu().numpy())\n",
    "        all_labels.extend(labels.cpu().numpy())\n",
    "\n",
    "plt.plot(loss_values, label=\"Loss (Cross-Entropy)\")\n",
    "plt.xlabel(\"Batch-Index\")\n",
    "plt.ylabel(\"Loss\")\n",
    "plt.title(\"Verlustfunktion während des Tests\")\n",
    "plt.legend()\n",
    "plt.grid(True)\n",
    "plt.show()\n",
    "\n",
    "# Accuracy berechnen\n",
    "accuracy = 100 * correct / total\n",
    "print(f'Accuracy (SNN): {accuracy:.2f}%')\n",
    "\n",
    "# Optional: target names, z. B. für KMNIST (0–9)\n",
    "class_names = [str(i) for i in range(10)]\n",
    "\n",
    "# Classification Report\n",
    "report = classification_report(\n",
    "    all_labels,\n",
    "    all_preds,\n",
    "    target_names=class_names,\n",
    "    zero_division=0\n",
    ")\n",
    "\n",
    "f_stat, p_val = f_oneway(all_labels, all_labels)\n",
    "print(f\"F = {f_stat:.3f}, p = {p_val:.3f}\")\n",
    "print(report)\n"
   ]
  },
  {
   "cell_type": "markdown",
   "metadata": {},
   "source": [
    "10. CNN Evaluieren"
   ]
  },
  {
   "cell_type": "code",
   "execution_count": 14,
   "metadata": {},
   "outputs": [
    {
     "data": {
      "image/png": "[encoded data removed]",
      "text/plain": [
       "<Figure size 640x480 with 1 Axes>"
      ]
     },
     "metadata": {},
     "output_type": "display_data"
    },
    {
     "name": "stdout",
     "output_type": "stream",
     "text": [
      "Accuracy (CNN): 99.00%\n",
      "Precision (macro): 0.9889\n",
      "Recall (macro):    0.9933\n",
      "F1-Score (macro):  0.9907\n",
      "F = 0.000, p = 1.000\n",
      "              precision    recall  f1-score   support\n",
      "\n",
      "           0       1.00      1.00      1.00         8\n",
      "           1       1.00      1.00      1.00        14\n",
      "           2       0.89      1.00      0.94         8\n",
      "           3       1.00      1.00      1.00        11\n",
      "           4       1.00      1.00      1.00        14\n",
      "           5       1.00      1.00      1.00         7\n",
      "           6       1.00      1.00      1.00        10\n",
      "           7       1.00      0.93      0.97        15\n",
      "           8       1.00      1.00      1.00         2\n",
      "           9       1.00      1.00      1.00        11\n",
      "\n",
      "    accuracy                           0.99       100\n",
      "   macro avg       0.99      0.99      0.99       100\n",
      "weighted avg       0.99      0.99      0.99       100\n",
      "\n"
     ]
    }
   ],
   "source": [
    "from sklearn.metrics import precision_score, recall_score, f1_score, classification_report\n",
    "from matplotlib import pyplot as plt\n",
    "\n",
    "loss_values = []\n",
    "cnn_model.eval()\n",
    "correct = 0\n",
    "total = 0\n",
    "\n",
    "all_preds = []\n",
    "all_labels = []\n",
    "\n",
    "with torch.no_grad():\n",
    "    for images, labels in test_loader:\n",
    "        images = images.to(device)\n",
    "        labels = labels.to(device)\n",
    "        \n",
    "        outputs = cnn_model(images)\n",
    "        loss = cnn_loss_fn(outputs, labels)\n",
    "        loss_values.append(loss.item())\n",
    "    \n",
    "        _, predicted = torch.max(outputs, 1)\n",
    "\n",
    "        total += labels.size(0)\n",
    "        correct += (predicted == labels).sum().item()\n",
    "\n",
    "        all_preds.extend(predicted.cpu().numpy())\n",
    "        all_labels.extend(labels.cpu().numpy())\n",
    "\n",
    "# Plot der Verlustkurve\n",
    "plt.plot(loss_values, label=\"Loss (Cross-Entropy)\")\n",
    "plt.xlabel(\"Batch-Index\")\n",
    "plt.ylabel(\"Loss\")\n",
    "plt.title(\"Verlustfunktion während des Tests\")\n",
    "plt.legend()\n",
    "plt.grid(True)\n",
    "plt.show()\n",
    "\n",
    "precision = precision_score(all_labels, all_preds, average='macro')\n",
    "recall = recall_score(all_labels, all_preds, average='macro')\n",
    "f1 = f1_score(all_labels, all_preds, average='macro')\n",
    "\n",
    "print(f'Accuracy (CNN): {100 * correct / total:.2f}%')\n",
    "print(f'Precision (macro): {precision:.4f}')\n",
    "print(f'Recall (macro):    {recall:.4f}')\n",
    "print(f'F1-Score (macro):  {f1:.4f}')\n",
    "\n",
    "report = classification_report(all_labels, all_preds, zero_division=0)\n",
    "f_stat, p_val = f_oneway(all_labels, all_labels)\n",
    "print(f\"F = {f_stat:.3f}, p = {p_val:.3f}\")\n",
    "print(report)\n"
   ]
  }
 ],
 "metadata": {
  "kernelspec": {
   "display_name": "Python 3",
   "language": "python",
   "name": "python3"
  },
  "language_info": {
   "codemirror_mode": {
    "name": "ipython",
    "version": 3
   },
   "file_extension": ".py",
   "mimetype": "text/x-python",
   "name": "python",
   "nbconvert_exporter": "python",
   "pygments_lexer": "ipython3",
   "version": "3.11.9"
  }
 },
 "nbformat": 4,
 "nbformat_minor": 2
}

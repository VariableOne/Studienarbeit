{
 "cells": [
  {
   "cell_type": "markdown",
   "metadata": {},
   "source": [
    "# Implementierung eines SNN und CNN: Ein Vergleich mit dem MNIST-Datensatz\n",
    "\n",
    "\n",
    "*Author: Ümmühan Ay*"
   ]
  },
  {
   "cell_type": "markdown",
   "metadata": {},
   "source": [
    "Schritt 1: Alle nötigen Imports importieren"
   ]
  },
  {
   "cell_type": "code",
   "execution_count": null,
   "metadata": {},
   "outputs": [],
   "source": [
    "import torch\n",
    "import torch.nn as nn\n",
    "import torch.nn.functional as F\n",
    "from torch.utils.data import DataLoader\n",
    "from torchvision import datasets, transforms\n",
    "import torch\n",
    "from torch.utils.data import DataLoader\n",
    "from torchvision import transforms\n",
    "import time"
   ]
  },
  {
   "cell_type": "markdown",
   "metadata": {},
   "source": [
    "Schritt 2: Cuda benutzen"
   ]
  },
  {
   "cell_type": "code",
   "execution_count": null,
   "metadata": {},
   "outputs": [],
   "source": [
    "device = torch.device(\"cuda\")"
   ]
  },
  {
   "cell_type": "markdown",
   "metadata": {},
   "source": [
    "Schritt 3: Implementierung des SNN und des LIF"
   ]
  },
  {
   "cell_type": "code",
   "execution_count": null,
   "metadata": {},
   "outputs": [],
   "source": [
    "class SNN(nn.Module):\n",
    "    def __init__(self, input_size, hidden_size, output_size, learning_rate=0.001, tau_plus=20.0, tau_minus=20.0, tau_mem=10.0, v_rest=-65.0, v_thresh=-50.0, v_reset=-65.0):\n",
    "        super(SNN, self).__init__()\n",
    "        self.input_size = input_size\n",
    "        self.hidden_size = hidden_size\n",
    "\n",
    "        # Synapsen-Gewichte initialisieren: (input_size, hidden_size)\n",
    "        self.synapse_weights = nn.Parameter(torch.randn(input_size, hidden_size).to(device))\n",
    "        self.fc2 = nn.Linear(hidden_size, output_size)\n",
    "\n",
    "        self.learning_rate = learning_rate\n",
    "        self.tau_plus = tau_plus\n",
    "        self.tau_minus = tau_minus\n",
    "\n",
    "        self.tau_mem = tau_mem  # Membranzeitkonstante\n",
    "        self.v_rest = v_rest  # Ruhepotenzial\n",
    "        self.v_thresh = v_thresh  # Schwellenwert\n",
    "        self.v_reset = v_reset  # Reset-Potenzial\n",
    "\n",
    "        # Membranpotentiale initialisieren\n",
    "        self.v_hidden = torch.full((hidden_size,), self.v_rest, device=\"cuda\")\n",
    "        # STDP Zustände (Spuren für pre- und post-Spikes)\n",
    "        self.pre_trace = torch.zeros(input_size, device=\"cuda\")\n",
    "        self.post_trace = torch.zeros(hidden_size, device=\"cuda\")\n",
    "\n",
    "    def forward(self, x, dt=1e-3):\n",
    "        batch_size, time_steps, _ = x.shape\n",
    "        spikes_out = torch.zeros(batch_size, time_steps, self.hidden_size, device=x.device)\n",
    "\n",
    "        batch_size = x.shape[0]\n",
    "        if self.v_hidden is None or self.v_hidden.shape[0] != batch_size:\n",
    "            self.v_hidden = torch.full((batch_size, self.hidden_size), self.v_rest, device=x.device)\n",
    "\n",
    "        for t in range(time_steps):\n",
    "            z_pre = x[:, t, :]\n",
    "            self.v_hidden = self.v_hidden + (self.v_rest - self.v_hidden) * (dt / self.tau_mem) + torch.matmul(z_pre, self.synapse_weights)\n",
    "            z_post = (self.v_hidden > self.v_thresh).float()\n",
    "            self.v_hidden = torch.where(z_post > 0, self.v_reset, self.v_hidden)\n",
    "            spikes_out[:, t, :] = z_post\n",
    "            self.stdp_update(z_pre, z_post, dt)\n",
    "\n",
    "        output = self.fc2(spikes_out.sum(dim=1))\n",
    "        return output\n",
    "\n",
    "    def stdp_update(self, z_pre, z_post, dt):\n",
    "        self.pre_trace = (1 - dt / self.tau_plus) * self.pre_trace + z_pre.mean(dim=0)\n",
    "        self.post_trace = (1 - dt / self.tau_minus) * self.post_trace + z_post.mean(dim=0)\n",
    "\n",
    "        hebbian = torch.ger(self.post_trace, self.pre_trace)\n",
    "        anti_hebbian = torch.ger(self.pre_trace, self.post_trace)\n",
    "\n",
    "        dw = self.learning_rate * (hebbian - anti_hebbian.T)\n",
    "        dw = torch.clamp(dw, -1.0, 1.0)\n",
    "        self.synapse_weights.data += dw.T\n"
   ]
  },
  {
   "cell_type": "markdown",
   "metadata": {},
   "source": [
    "Schritt 4: MNIST-Datensatz laden"
   ]
  },
  {
   "cell_type": "markdown",
   "metadata": {},
   "source": [
    "Test mit MNIST"
   ]
  },
  {
   "cell_type": "markdown",
   "metadata": {},
   "source": [
    "Test mit Kanji-Datensatz"
   ]
  },
  {
   "cell_type": "code",
   "execution_count": null,
   "metadata": {},
   "outputs": [
    {
     "name": "stdout",
     "output_type": "stream",
     "text": [
      "Files already downloaded and verified\n"
     ]
    }
   ],
   "source": [
    "from torch.utils.data import Subset\n",
    "\n",
    "batch_size = 256\n",
    "time_steps = 50\n",
    "\n",
    "transform = transforms.Compose([\n",
    "    transforms.RandomHorizontalFlip(),\n",
    "    transforms.RandomCrop(32, padding=4),\n",
    "    transforms.Resize((32, 32)),\n",
    "    transforms.ToTensor(),\n",
    "    transforms.Normalize(mean=[0.4914, 0.4822, 0.4465], std=[0.2023, 0.1994, 0.2010])\n",
    "])\n",
    "\n",
    "# CIFAR-10 Dataset laden (train und test)\n",
    "train_dataset = datasets.CIFAR10(root='./cifar-10', train=True, download=True, transform=transform)\n",
    "test_dataset = datasets.CIFAR10(root='./cifar-10', train=False, download=False, transform=transform)\n",
    "# Nur 900 Trainingsdaten & 100 Testdaten\n",
    "train_subset = Subset(train_dataset, range(900))\n",
    "test_subset = Subset(test_dataset, range(100))\n",
    "# Trainings- und Test-Dataloader\n",
    "train_loader = DataLoader(train_subset, batch_size=batch_size, shuffle=True)\n",
    "test_loader = DataLoader(test_subset, batch_size=batch_size, shuffle=False)\n",
    "\n",
    "def image_to_spikes(images, time_steps, threshold=0.5):\n",
    "    spikes = torch.zeros((images.size(0), time_steps, images.size(1)), device=images.device)\n",
    "    for t in range(time_steps):\n",
    "        spikes[:, t, :] = (images > threshold).float()\n",
    "    return spikes\n"
   ]
  },
  {
   "cell_type": "markdown",
   "metadata": {},
   "source": [
    "Schritt 5: CNN erstellen"
   ]
  },
  {
   "cell_type": "code",
   "execution_count": null,
   "metadata": {},
   "outputs": [],
   "source": [
    "class SimpleCNN(nn.Module):\n",
    "    def __init__(self):\n",
    "        super(SimpleCNN, self).__init__()\n",
    "\n",
    "        self.conv1 = nn.Conv2d(3, 32, kernel_size=3, padding=1)\n",
    "        self.conv2 = nn.Conv2d(32, 64, kernel_size=3, padding=1)\n",
    "        self.conv3 = nn.Conv2d(64, 128, kernel_size=3, padding=1)\n",
    "\n",
    "        self.pool = nn.MaxPool2d(2, 2)\n",
    "        self.fc1 = nn.Linear(128 * 4 * 4, 512)\n",
    "        self.fc2 = nn.Linear(512, 10)\n",
    "\n",
    "        # Dropout nach der ersten Fully Connected Layer\n",
    "        self.dropout = nn.Dropout(0.5)\n",
    "\n",
    "        # BatchNorm für Convolutional Layer\n",
    "        self.bn1 = nn.BatchNorm2d(32)\n",
    "        self.bn2 = nn.BatchNorm2d(64)\n",
    "        self.bn3 = nn.BatchNorm2d(128)\n",
    "\n",
    "    def forward(self, x):\n",
    "        # Convolutional Layers mit BatchNorm und ReLU\n",
    "        x = self.pool(F.relu(self.bn1(self.conv1(x))))   # 32x32 → 16x16\n",
    "        x = self.pool(F.relu(self.bn2(self.conv2(x))))   # 16x16 → 8x8\n",
    "        x = self.pool(F.relu(self.bn3(self.conv3(x))))   # 8x8 → 4x4\n",
    "        \n",
    "        # Flatten the tensor\n",
    "        x = x.view(x.size(0), -1)\n",
    "\n",
    "        # Fully Connected Layers mit Dropout\n",
    "        x = F.relu(self.fc1(x))\n",
    "        x = self.dropout(x)  # Dropout nach fc1\n",
    "        x = self.fc2(x)\n",
    "        return x"
   ]
  },
  {
   "cell_type": "markdown",
   "metadata": {},
   "source": [
    "6. Hyperparameter, Loss-Funktion und Optimizer definieren"
   ]
  },
  {
   "cell_type": "code",
   "execution_count": null,
   "metadata": {},
   "outputs": [],
   "source": [
    "# Hyperparameter\n",
    "input_size = 32 * 32 * 3  # Für CIFAR-10 Bilder\n",
    "hidden_size = 512\n",
    "output_size = 10\n",
    "epochs = 1000\n",
    "time_steps = 1\n",
    "\n",
    "snn_model = SNN(input_size=input_size, hidden_size=hidden_size, output_size=output_size).to(device)\n",
    "cnn_model = SimpleCNN().to(device)\n",
    "\n",
    "snn_optimizer = torch.optim.Adam(snn_model.parameters(), lr=0.001)\n",
    "cnn_optimizer = torch.optim.Adam(cnn_model.parameters(), lr=0.001)\n",
    "\n",
    "snn_loss_fn = torch.nn.CrossEntropyLoss()\n",
    "cnn_loss_fn = torch.nn.CrossEntropyLoss()"
   ]
  },
  {
   "cell_type": "code",
   "execution_count": null,
   "metadata": {},
   "outputs": [],
   "source": [
    "start = time.time()\n",
    "\n",
    "torch.cuda.reset_peak_memory_stats()\n",
    "torch.cuda.synchronize()\n",
    "start_memory = torch.cuda.memory_allocated()"
   ]
  },
  {
   "cell_type": "markdown",
   "metadata": {},
   "source": [
    "7. Training SNN"
   ]
  },
  {
   "cell_type": "code",
   "execution_count": null,
   "metadata": {},
   "outputs": [
    {
     "name": "stdout",
     "output_type": "stream",
     "text": [
      "Epoch [1/100], SNN Loss: 18.1302\n",
      "Epoch [2/100], SNN Loss: 15.6522\n",
      "Epoch [3/100], SNN Loss: 14.0998\n",
      "Epoch [4/100], SNN Loss: 12.6805\n",
      "Epoch [5/100], SNN Loss: 12.1719\n",
      "Epoch [6/100], SNN Loss: 11.5516\n",
      "Epoch [7/100], SNN Loss: 10.9728\n",
      "Epoch [8/100], SNN Loss: 10.7626\n",
      "Epoch [9/100], SNN Loss: 10.3349\n",
      "Epoch [10/100], SNN Loss: 10.6492\n",
      "Epoch [11/100], SNN Loss: 9.9792\n",
      "Epoch [12/100], SNN Loss: 9.6091\n",
      "Epoch [13/100], SNN Loss: 9.1098\n",
      "Epoch [14/100], SNN Loss: 8.8798\n",
      "Epoch [15/100], SNN Loss: 9.0717\n",
      "Epoch [16/100], SNN Loss: 8.6978\n",
      "Epoch [17/100], SNN Loss: 8.1260\n",
      "Epoch [18/100], SNN Loss: 8.1621\n",
      "Epoch [19/100], SNN Loss: 8.1568\n",
      "Epoch [20/100], SNN Loss: 8.0361\n",
      "Epoch [21/100], SNN Loss: 7.4461\n",
      "Epoch [22/100], SNN Loss: 7.7866\n",
      "Epoch [23/100], SNN Loss: 7.3691\n",
      "Epoch [24/100], SNN Loss: 7.1987\n",
      "Epoch [25/100], SNN Loss: 7.2096\n",
      "Epoch [26/100], SNN Loss: 7.0606\n",
      "Epoch [27/100], SNN Loss: 6.6797\n",
      "Epoch [28/100], SNN Loss: 6.8972\n",
      "Epoch [29/100], SNN Loss: 6.7936\n",
      "Epoch [30/100], SNN Loss: 6.5466\n",
      "Epoch [31/100], SNN Loss: 6.2478\n",
      "Epoch [32/100], SNN Loss: 6.2044\n",
      "Epoch [33/100], SNN Loss: 6.1194\n",
      "Epoch [34/100], SNN Loss: 6.0794\n",
      "Epoch [35/100], SNN Loss: 5.7618\n",
      "Epoch [36/100], SNN Loss: 5.6981\n",
      "Epoch [37/100], SNN Loss: 5.5376\n",
      "Epoch [38/100], SNN Loss: 5.4560\n",
      "Epoch [39/100], SNN Loss: 5.4262\n",
      "Epoch [40/100], SNN Loss: 5.4030\n",
      "Epoch [41/100], SNN Loss: 4.9651\n",
      "Epoch [42/100], SNN Loss: 4.7145\n",
      "Epoch [43/100], SNN Loss: 4.9338\n",
      "Epoch [44/100], SNN Loss: 4.6532\n",
      "Epoch [45/100], SNN Loss: 4.6559\n",
      "Epoch [46/100], SNN Loss: 4.6140\n",
      "Epoch [47/100], SNN Loss: 4.7850\n",
      "Epoch [48/100], SNN Loss: 4.5444\n",
      "Epoch [49/100], SNN Loss: 4.5888\n",
      "Epoch [50/100], SNN Loss: 4.5454\n",
      "Epoch [51/100], SNN Loss: 4.5157\n",
      "Epoch [52/100], SNN Loss: 4.5180\n",
      "Epoch [53/100], SNN Loss: 3.9592\n",
      "Epoch [54/100], SNN Loss: 4.1487\n",
      "Epoch [55/100], SNN Loss: 4.0181\n",
      "Epoch [56/100], SNN Loss: 3.8212\n",
      "Epoch [57/100], SNN Loss: 3.9023\n",
      "Epoch [58/100], SNN Loss: 3.9427\n",
      "Epoch [59/100], SNN Loss: 3.7882\n",
      "Epoch [60/100], SNN Loss: 3.8372\n",
      "Epoch [61/100], SNN Loss: 3.6455\n",
      "Epoch [62/100], SNN Loss: 3.6746\n",
      "Epoch [63/100], SNN Loss: 3.5644\n",
      "Epoch [64/100], SNN Loss: 3.4762\n",
      "Epoch [65/100], SNN Loss: 3.4795\n",
      "Epoch [66/100], SNN Loss: 3.6355\n",
      "Epoch [67/100], SNN Loss: 3.4430\n",
      "Epoch [68/100], SNN Loss: 3.4842\n",
      "Epoch [69/100], SNN Loss: 3.3842\n",
      "Epoch [70/100], SNN Loss: 3.2959\n",
      "Epoch [71/100], SNN Loss: 3.3674\n",
      "Epoch [72/100], SNN Loss: 3.2255\n",
      "Epoch [73/100], SNN Loss: 3.3407\n",
      "Epoch [74/100], SNN Loss: 3.5032\n",
      "Epoch [75/100], SNN Loss: 3.4853\n",
      "Epoch [76/100], SNN Loss: 3.3977\n",
      "Epoch [77/100], SNN Loss: 3.4181\n",
      "Epoch [78/100], SNN Loss: 3.2719\n",
      "Epoch [79/100], SNN Loss: 3.0927\n",
      "Epoch [80/100], SNN Loss: 3.0249\n",
      "Epoch [81/100], SNN Loss: 2.8346\n",
      "Epoch [82/100], SNN Loss: 2.8238\n",
      "Epoch [83/100], SNN Loss: 2.8513\n",
      "Epoch [84/100], SNN Loss: 2.6967\n",
      "Epoch [85/100], SNN Loss: 2.7910\n",
      "Epoch [86/100], SNN Loss: 2.8536\n",
      "Epoch [87/100], SNN Loss: 2.8674\n",
      "Epoch [88/100], SNN Loss: 2.8394\n",
      "Epoch [89/100], SNN Loss: 3.0206\n",
      "Epoch [90/100], SNN Loss: 2.8676\n",
      "Epoch [91/100], SNN Loss: 2.7489\n",
      "Epoch [92/100], SNN Loss: 2.5443\n",
      "Epoch [93/100], SNN Loss: 2.6301\n",
      "Epoch [94/100], SNN Loss: 2.6672\n",
      "Epoch [95/100], SNN Loss: 2.6073\n",
      "Epoch [96/100], SNN Loss: 2.6720\n",
      "Epoch [97/100], SNN Loss: 2.6543\n",
      "Epoch [98/100], SNN Loss: 2.5601\n",
      "Epoch [99/100], SNN Loss: 2.5853\n",
      "Epoch [100/100], SNN Loss: 2.5652\n"
     ]
    }
   ],
   "source": [
    "# SNN trainieren\n",
    "for epoch in range(epochs):\n",
    "    snn_model.train()\n",
    "    running_loss = 0.0\n",
    "    \n",
    "    for images, labels in train_loader:\n",
    "        images = images.view(images.size(0), -1)\n",
    "        images = images.to(device)\n",
    "        labels = labels.to(device)\n",
    "        spikes = image_to_spikes(images, time_steps)\n",
    "\n",
    "        outputs = snn_model(spikes)\n",
    "        loss = snn_loss_fn(outputs, labels.to(device))\n",
    "\n",
    "        snn_optimizer.zero_grad()\n",
    "        loss.backward()\n",
    "        snn_optimizer.step()\n",
    "\n",
    "        running_loss += loss.item()\n",
    "    \n",
    "    print(f'Epoch [{epoch+1}/{epochs}], SNN Loss: {running_loss/len(train_loader):.4f}')"
   ]
  },
  {
   "cell_type": "code",
   "execution_count": null,
   "metadata": {},
   "outputs": [
    {
     "name": "stdout",
     "output_type": "stream",
     "text": [
      "Trainingszeit: 42.85 Sekunden\n",
      "Maximale GPU-Speichernutzung: 617.28 MB\n"
     ]
    }
   ],
   "source": [
    "torch.cuda.synchronize()\n",
    "end = time.time()\n",
    "end_memory = torch.cuda.max_memory_allocated()\n",
    "\n",
    "print(f\"Trainingszeit: {end - start:.2f} Sekunden\")\n",
    "print(f\"Maximale GPU-Speichernutzung: {end_memory / 1e6:.2f} MB\")"
   ]
  },
  {
   "cell_type": "markdown",
   "metadata": {},
   "source": [
    "8. CNN trainieren"
   ]
  },
  {
   "cell_type": "code",
   "execution_count": null,
   "metadata": {},
   "outputs": [
    {
     "name": "stdout",
     "output_type": "stream",
     "text": [
      "Epoch [1/100], CNN Loss: 2.8237\n",
      "Epoch [2/100], CNN Loss: 2.4783\n",
      "Epoch [3/100], CNN Loss: 2.1153\n",
      "Epoch [4/100], CNN Loss: 2.0079\n",
      "Epoch [5/100], CNN Loss: 1.9625\n",
      "Epoch [6/100], CNN Loss: 1.9156\n",
      "Epoch [7/100], CNN Loss: 1.8736\n",
      "Epoch [8/100], CNN Loss: 1.8193\n",
      "Epoch [9/100], CNN Loss: 1.7936\n",
      "Epoch [10/100], CNN Loss: 1.7632\n",
      "Epoch [11/100], CNN Loss: 1.7467\n",
      "Epoch [12/100], CNN Loss: 1.7176\n",
      "Epoch [13/100], CNN Loss: 1.6879\n",
      "Epoch [14/100], CNN Loss: 1.6593\n",
      "Epoch [15/100], CNN Loss: 1.6287\n",
      "Epoch [16/100], CNN Loss: 1.5826\n",
      "Epoch [17/100], CNN Loss: 1.5885\n",
      "Epoch [18/100], CNN Loss: 1.5445\n",
      "Epoch [19/100], CNN Loss: 1.5523\n",
      "Epoch [20/100], CNN Loss: 1.4976\n",
      "Epoch [21/100], CNN Loss: 1.5167\n",
      "Epoch [22/100], CNN Loss: 1.4653\n",
      "Epoch [23/100], CNN Loss: 1.4389\n",
      "Epoch [24/100], CNN Loss: 1.3847\n",
      "Epoch [25/100], CNN Loss: 1.3875\n",
      "Epoch [26/100], CNN Loss: 1.3896\n",
      "Epoch [27/100], CNN Loss: 1.4104\n",
      "Epoch [28/100], CNN Loss: 1.3380\n",
      "Epoch [29/100], CNN Loss: 1.3350\n",
      "Epoch [30/100], CNN Loss: 1.3268\n",
      "Epoch [31/100], CNN Loss: 1.2812\n",
      "Epoch [32/100], CNN Loss: 1.2709\n",
      "Epoch [33/100], CNN Loss: 1.2148\n",
      "Epoch [34/100], CNN Loss: 1.1849\n",
      "Epoch [35/100], CNN Loss: 1.2202\n",
      "Epoch [36/100], CNN Loss: 1.2176\n",
      "Epoch [37/100], CNN Loss: 1.1969\n",
      "Epoch [38/100], CNN Loss: 1.1782\n",
      "Epoch [39/100], CNN Loss: 1.1534\n",
      "Epoch [40/100], CNN Loss: 1.1085\n",
      "Epoch [41/100], CNN Loss: 1.0803\n",
      "Epoch [42/100], CNN Loss: 1.0944\n",
      "Epoch [43/100], CNN Loss: 1.1224\n",
      "Epoch [44/100], CNN Loss: 1.0592\n",
      "Epoch [45/100], CNN Loss: 1.0774\n",
      "Epoch [46/100], CNN Loss: 1.0154\n",
      "Epoch [47/100], CNN Loss: 1.0182\n",
      "Epoch [48/100], CNN Loss: 1.0032\n",
      "Epoch [49/100], CNN Loss: 1.0222\n",
      "Epoch [50/100], CNN Loss: 1.0279\n",
      "Epoch [51/100], CNN Loss: 1.0099\n",
      "Epoch [52/100], CNN Loss: 0.9928\n",
      "Epoch [53/100], CNN Loss: 0.9787\n",
      "Epoch [54/100], CNN Loss: 0.9542\n",
      "Epoch [55/100], CNN Loss: 0.9614\n",
      "Epoch [56/100], CNN Loss: 0.8904\n",
      "Epoch [57/100], CNN Loss: 0.9183\n",
      "Epoch [58/100], CNN Loss: 0.9065\n",
      "Epoch [59/100], CNN Loss: 0.8728\n",
      "Epoch [60/100], CNN Loss: 0.8743\n",
      "Epoch [61/100], CNN Loss: 0.8912\n",
      "Epoch [62/100], CNN Loss: 0.8184\n",
      "Epoch [63/100], CNN Loss: 0.8408\n",
      "Epoch [64/100], CNN Loss: 0.8512\n",
      "Epoch [65/100], CNN Loss: 0.8305\n",
      "Epoch [66/100], CNN Loss: 0.8121\n",
      "Epoch [67/100], CNN Loss: 0.8000\n",
      "Epoch [68/100], CNN Loss: 0.7591\n",
      "Epoch [69/100], CNN Loss: 0.8076\n",
      "Epoch [70/100], CNN Loss: 0.7726\n",
      "Epoch [71/100], CNN Loss: 0.7173\n",
      "Epoch [72/100], CNN Loss: 0.7511\n",
      "Epoch [73/100], CNN Loss: 0.7585\n",
      "Epoch [74/100], CNN Loss: 0.7525\n",
      "Epoch [75/100], CNN Loss: 0.7303\n",
      "Epoch [76/100], CNN Loss: 0.7188\n",
      "Epoch [77/100], CNN Loss: 0.6939\n",
      "Epoch [78/100], CNN Loss: 0.6804\n",
      "Epoch [79/100], CNN Loss: 0.6592\n",
      "Epoch [80/100], CNN Loss: 0.6183\n",
      "Epoch [81/100], CNN Loss: 0.6707\n",
      "Epoch [82/100], CNN Loss: 0.6404\n",
      "Epoch [83/100], CNN Loss: 0.6221\n",
      "Epoch [84/100], CNN Loss: 0.6431\n",
      "Epoch [85/100], CNN Loss: 0.6003\n",
      "Epoch [86/100], CNN Loss: 0.5820\n",
      "Epoch [87/100], CNN Loss: 0.6041\n",
      "Epoch [88/100], CNN Loss: 0.6113\n",
      "Epoch [89/100], CNN Loss: 0.6159\n",
      "Epoch [90/100], CNN Loss: 0.5492\n",
      "Epoch [91/100], CNN Loss: 0.5966\n",
      "Epoch [92/100], CNN Loss: 0.6201\n",
      "Epoch [93/100], CNN Loss: 0.5633\n",
      "Epoch [94/100], CNN Loss: 0.5763\n",
      "Epoch [95/100], CNN Loss: 0.5721\n",
      "Epoch [96/100], CNN Loss: 0.5743\n",
      "Epoch [97/100], CNN Loss: 0.5180\n",
      "Epoch [98/100], CNN Loss: 0.5217\n",
      "Epoch [99/100], CNN Loss: 0.5501\n",
      "Epoch [100/100], CNN Loss: 0.4933\n"
     ]
    }
   ],
   "source": [
    "# CNN trainieren\n",
    "for epoch in range(epochs):\n",
    "    cnn_model.train()\n",
    "    running_loss = 0.0\n",
    "    \n",
    "    for images, labels in train_loader:\n",
    "        images = images.to(device)\n",
    "        labels = labels.to(device)\n",
    "\n",
    "        outputs = cnn_model(images)\n",
    "        \n",
    "        cnn_loss = cnn_loss_fn(outputs, labels)\n",
    "        cnn_optimizer.zero_grad()\n",
    "        cnn_loss.backward()\n",
    "        cnn_optimizer.step()\n",
    "        \n",
    "        running_loss += cnn_loss.item()\n",
    "    \n",
    "    print(f'Epoch [{epoch+1}/{epochs}], CNN Loss: {running_loss/len(train_loader):.4f}')"
   ]
  },
  {
   "cell_type": "code",
   "execution_count": null,
   "metadata": {},
   "outputs": [
    {
     "name": "stdout",
     "output_type": "stream",
     "text": [
      "Trainingszeit: 77.82 Sekunden\n",
      "Maximale GPU-Speichernutzung: 617.28 MB\n"
     ]
    }
   ],
   "source": [
    "torch.cuda.synchronize()\n",
    "end = time.time()\n",
    "end_memory = torch.cuda.max_memory_allocated()\n",
    "\n",
    "print(f\"Trainingszeit: {end - start:.2f} Sekunden\")\n",
    "print(f\"Maximale GPU-Speichernutzung: {end_memory / 1e6:.2f} MB\")"
   ]
  },
  {
   "cell_type": "markdown",
   "metadata": {},
   "source": [
    "9. SNN Evaluieren"
   ]
  },
  {
   "cell_type": "code",
   "execution_count": null,
   "metadata": {},
   "outputs": [
    {
     "data": {
      "image/png": "[encoded data removed]",
      "text/plain": [
       "<Figure size 640x480 with 1 Axes>"
      ]
     },
     "metadata": {},
     "output_type": "display_data"
    },
    {
     "name": "stdout",
     "output_type": "stream",
     "text": [
      "Accuracy (SNN): 24.00%\n"
     ]
    }
   ],
   "source": [
    "from matplotlib import pyplot as plt\n",
    "\n",
    "snn_model.eval()\n",
    "correct = 0\n",
    "total = 0\n",
    "loss_values = []\n",
    "\n",
    "with torch.no_grad():\n",
    "    for images, labels in test_loader:\n",
    "        images = images.view(images.size(0), -1).to(device)\n",
    "        spikes = image_to_spikes(images, time_steps)\n",
    "        spikes = spikes.to(device)\n",
    "        \n",
    "        outputs = snn_model(spikes)\n",
    "        loss = snn_loss_fn(outputs, labels.to(device))\n",
    "        loss_values.append(loss.item())  # Speichern des Verlusts\n",
    "        _, predicted = torch.max(outputs, 1)\n",
    "        \n",
    "        total += labels.size(0)\n",
    "        correct += (predicted == labels.to(device)).sum().item()\n",
    "\n",
    "# Plot der Verlustwerte\n",
    "plt.plot(loss_values, label=\"Loss (Cross-Entropy)\")\n",
    "plt.xlabel(\"Batch-Index\")\n",
    "plt.ylabel(\"Loss\")\n",
    "plt.title(\"Verlustkurve während des Tests\")\n",
    "plt.legend()\n",
    "plt.grid(True)\n",
    "plt.show()\n",
    "\n",
    "# Berechnung der Genauigkeit\n",
    "accuracy = 100 * correct / total\n",
    "print(f'Accuracy (SNN): {accuracy:.2f}%')\n"
   ]
  },
  {
   "cell_type": "markdown",
   "metadata": {},
   "source": [
    "10. CNN Evaluieren"
   ]
  },
  {
   "cell_type": "code",
   "execution_count": null,
   "metadata": {},
   "outputs": [
    {
     "data": {
      "image/png": "[encoded data removed]",
      "text/plain": [
       "<Figure size 640x480 with 1 Axes>"
      ]
     },
     "metadata": {},
     "output_type": "display_data"
    },
    {
     "name": "stdout",
     "output_type": "stream",
     "text": [
      "Accuracy (CNN): 49.00%\n"
     ]
    }
   ],
   "source": [
    "loss_values = []\n",
    "cnn_model.eval()\n",
    "correct = 0\n",
    "total = 0\n",
    "\n",
    "with torch.no_grad():\n",
    "    for images, labels in test_loader:\n",
    "        images = images.to(device)\n",
    "        labels = labels.to(device)\n",
    "        \n",
    "        outputs = cnn_model(images)\n",
    "        loss = cnn_loss_fn(outputs, labels)\n",
    "        loss_values.append(loss.item())\n",
    "    \n",
    "        _, predicted = torch.max(outputs, 1)\n",
    "        \n",
    "        total += labels.size(0)\n",
    "        correct += (predicted == labels.to(device)).sum().item()\n",
    "\n",
    "# Plot der Verlustkurve\n",
    "plt.plot(loss_values, label=\"Loss (Cross-Entropy)\")\n",
    "plt.xlabel(\"Batch-Index\")\n",
    "plt.ylabel(\"Loss\")\n",
    "plt.title(\"Verlustfunktion während des Tests\")\n",
    "plt.legend()\n",
    "plt.grid(True)\n",
    "plt.show()\n",
    "\n",
    "# Genauigkeit ausgeben\n",
    "print(f'Accuracy (CNN): {100 * correct / total:.2f}%')\n"
   ]
  }
 ],
 "metadata": {
  "kernelspec": {
   "display_name": "Python 3",
   "language": "python",
   "name": "python3"
  },
  "language_info": {
   "codemirror_mode": {
    "name": "ipython",
    "version": 3
   },
   "file_extension": ".py",
   "mimetype": "text/x-python",
   "name": "python",
   "nbconvert_exporter": "python",
   "pygments_lexer": "ipython3",
   "version": "3.11.9"
  }
 },
 "nbformat": 4,
 "nbformat_minor": 2
}

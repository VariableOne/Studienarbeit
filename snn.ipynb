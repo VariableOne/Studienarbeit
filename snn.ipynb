{
 "cells": [
  {
   "cell_type": "markdown",
   "metadata": {},
   "source": [
    "Schritt 1: Alle nötigen Imports importieren"
   ]
  },
  {
   "cell_type": "code",
   "execution_count": 4,
   "metadata": {},
   "outputs": [],
   "source": [
    "import torch\n",
    "import torch.nn as nn\n",
    "from torch.utils.data import DataLoader\n",
    "from torchvision import datasets, transforms\n",
    "import torch.nn.functional as F"
   ]
  },
  {
   "cell_type": "markdown",
   "metadata": {},
   "source": [
    "Schritt 2: Cuda und GPU als device festlegen"
   ]
  },
  {
   "cell_type": "code",
   "execution_count": 5,
   "metadata": {},
   "outputs": [],
   "source": [
    "device = torch.device(\"cuda\" if torch.cuda.is_available() else \"cpu\")"
   ]
  },
  {
   "cell_type": "markdown",
   "metadata": {},
   "source": [
    "Schritt 3: Implementierung des SNN und des LIF"
   ]
  },
  {
   "cell_type": "code",
   "execution_count": 6,
   "metadata": {},
   "outputs": [],
   "source": [
    "# Beispiel LIF-Parameter und Zelle\n",
    "class LIFParameters:\n",
    "    def __init__(self):\n",
    "        self.v_rest = -65  # Ruhepotenzial\n",
    "        self.v_thresh = -50  # Schwellenwert\n",
    "        self.v_reset = -65  # Reset-Potenzial\n",
    "        self.tau_mem = 10  # Membranzeitkonstante\n",
    "\n",
    "class LIFCell(nn.Module):\n",
    "    def __init__(self, p):\n",
    "        super(LIFCell, self).__init__()\n",
    "        self.p = p\n",
    "        self.v = None  # Membranpotential\n",
    "\n",
    "    def forward(self, x):\n",
    "        # Einfacher LIF-Zellenmechanismus, nur als Platzhalter\n",
    "        spike_train = torch.randn_like(x) > 0  # Zufällige Spikes zur Demonstration\n",
    "        return spike_train, None\n",
    "\n",
    "class STDP_SNN(nn.Module):\n",
    "    def __init__(self, input_size, hidden_size, output_size, learning_rate=0.01, tau_plus=20.0, tau_minus=20.0):\n",
    "        super(STDP_SNN, self).__init__()\n",
    "        # LIF-Parameter und Zellen\n",
    "        lif_params = LIFParameters()\n",
    "        self.lif1 = LIFCell(p=lif_params)\n",
    "        self.synapse_weights = nn.Parameter(torch.randn(input_size, hidden_size) * 0.01)\n",
    "        self.fc2 = nn.Linear(hidden_size, output_size)\n",
    "\n",
    "        # Lernparameter\n",
    "        self.learning_rate = learning_rate\n",
    "        self.tau_plus = tau_plus\n",
    "        self.tau_minus = tau_minus\n",
    "\n",
    "    # STDP-Lernmethode\n",
    "    def apply_stdp(self, prespike_time, postsynaptic_time):\n",
    "        prespike_time = prespike_time[:, None]\n",
    "        postsynaptic_time = postsynaptic_time[None, :]\n",
    "        time_difference = postsynaptic_time - prespike_time\n",
    "        weight_increase = torch.exp(-torch.abs(time_difference) / self.tau_plus)\n",
    "        weight_decrease = torch.exp(-torch.abs(time_difference) / self.tau_minus)\n",
    "        weight_delta = self.learning_rate * (weight_increase - weight_decrease)\n",
    "        weight_delta[time_difference < 0] *= -1\n",
    "        new_weights = torch.clamp(self.synapse_weights + weight_delta, min=0.0, max=1.0)\n",
    "        self.synapse_weights = nn.Parameter(new_weights)\n",
    "\n",
    "    # Normalisierung der Eingabedaten\n",
    "    def normalize_input(self, data):\n",
    "        std = data.std()\n",
    "        return (data - data.mean()) / std if std > 0 else data - data.mean()\n",
    "\n",
    "    # Vorwärtsdurchlauf\n",
    "    def forward(self, x):\n",
    "        x = self.normalize_input(x)\n",
    "        spikes, _ = self.lif1(x)  # Extrahiere nur den Spike-Wert\n",
    "        spikes_flat = spikes.view(spikes.size(0), -1)  # Flatten\n",
    "        spikes_flat = spikes_flat[:, :self.fc2.in_features]  # Um auf die Anzahl der Features in fc2 zu passen\n",
    "        \n",
    "        # Umwandlung der Spikes in Float\n",
    "        spikes_flat = spikes_flat.float()  # Umwandlung in float32 für den Linear-Layer\n",
    "        \n",
    "        output = self.fc2(spikes_flat)\n",
    "        return output\n",
    "\n"
   ]
  },
  {
   "cell_type": "markdown",
   "metadata": {},
   "source": [
    "Test (noch keine echten Daten)"
   ]
  },
  {
   "cell_type": "code",
   "execution_count": 7,
   "metadata": {},
   "outputs": [],
   "source": [
    "# Transform für den MNIST-Datensatz\n",
    "transform = transforms.Compose([\n",
    "    transforms.ToTensor(),         # Konvertiere in Tensor\n",
    "    transforms.Normalize((0.5,), (0.5,))  # Normalisierung\n",
    "])\n",
    "\n",
    "# Lade den MNIST-Datensatz\n",
    "train_dataset = datasets.MNIST(root='./data', train=True, download=True, transform=transform)\n",
    "train_loader = DataLoader(train_dataset, batch_size=64, shuffle=True)\n",
    "\n",
    "test_dataset = datasets.MNIST(root='./data', train=False, download=True, transform=transform)\n",
    "test_loader = DataLoader(test_dataset, batch_size=64, shuffle=False)\n",
    "\n",
    "def image_to_spikes(image, time_steps=100):\n",
    "    batch_size = image.size(0)  # Correctly use the batch size from the input image\n",
    "    spikes = torch.zeros(batch_size, time_steps, image.size(1))  # Shape: [Batch_Size, Time_Steps, Features]\n",
    "\n",
    "    for t in range(time_steps):\n",
    "        spike_train = (image > (t / time_steps)).float()  # Generate spike train based on pixel intensity\n",
    "        spikes[:, t, :] = spike_train  # Set the spike train at the current time step\n",
    "    \n",
    "    return spikes\n"
   ]
  },
  {
   "cell_type": "code",
   "execution_count": 8,
   "metadata": {},
   "outputs": [],
   "source": [
    "class SimpleCNN(nn.Module):\n",
    "    def __init__(self):\n",
    "        super(SimpleCNN, self).__init__()\n",
    "        self.conv1 = nn.Conv2d(1, 32, 3)  \n",
    "        self.pool = nn.MaxPool2d(2, 2)\n",
    "        self.fc1 = nn.Linear(32 * 13 * 13, 10)  \n",
    "\n",
    "    def forward(self, x):\n",
    "        x = self.pool(F.relu(self.conv1(x)))\n",
    "        x = x.view(-1, 32 * 13 * 13)\n",
    "        x = self.fc1(x)\n",
    "        return x"
   ]
  },
  {
   "cell_type": "code",
   "execution_count": 10,
   "metadata": {},
   "outputs": [
    {
     "name": "stdout",
     "output_type": "stream",
     "text": [
      "Epoch [1/5], SNN Loss: 2.3242\n",
      "Epoch [2/5], SNN Loss: 2.3103\n",
      "Epoch [3/5], SNN Loss: 2.3082\n",
      "Epoch [4/5], SNN Loss: 2.3081\n",
      "Epoch [5/5], SNN Loss: 2.3084\n",
      "Accuracy (SNN): 10.44%\n",
      "Accuracy (CNN): 9.59%\n"
     ]
    }
   ],
   "source": [
    "# Hyperparameter\n",
    "input_size = 28 * 28\n",
    "hidden_size = 100\n",
    "output_size = 10\n",
    "learning_rate = 0.001\n",
    "epochs = 5\n",
    "time_steps = 100\n",
    "\n",
    "snn_model = STDP_SNN(input_size, hidden_size, output_size, learning_rate)\n",
    "cnn_model = SimpleCNN().to(device)\n",
    "snn_optimizer = torch.optim.Adam(snn_model.parameters(), lr=learning_rate)\n",
    "cnn_optimizer = torch.optim.Adam(cnn_model.parameters(), lr=learning_rate)\n",
    "loss_fn = torch.nn.CrossEntropyLoss()\n",
    "# Function to average spikes over time\n",
    "def average_spikes(spikes, time_steps):\n",
    "    # Average spikes over the time dimension (e.g., by taking mean across time)\n",
    "    return spikes.mean(dim=1)  # Shape: [batch_size, 784] after averaging over time\n",
    "\n",
    "# Main training loop\n",
    "for epoch in range(epochs):\n",
    "    snn_model.train()\n",
    "    cnn_model.train()\n",
    "    running_loss = 0.0\n",
    "\n",
    "    for images, labels in train_loader:\n",
    "        images = images.view(images.size(0), -1)  # Flatten the images\n",
    "        spikes = image_to_spikes(images, time_steps)\n",
    "        \n",
    "        # Average over the time dimension before passing to CNN\n",
    "        spikes_avg = average_spikes(spikes, time_steps).view(-1, 1, 28, 28)  # [batch_size, 1, 28, 28]\n",
    "\n",
    "        # Now, you can pass the averaged spikes to both the SNN and CNN models\n",
    "        outputs = snn_model(spikes)\n",
    "        outputs2 = cnn_model(spikes_avg)\n",
    "\n",
    "        loss = loss_fn(outputs, labels)\n",
    "\n",
    "        # Backpropagation\n",
    "        snn_optimizer.zero_grad()\n",
    "        loss.backward()\n",
    "        snn_optimizer.step()\n",
    "\n",
    "        # Accumulate loss\n",
    "        running_loss += loss.item()\n",
    "\n",
    "    # Print the average loss for the epoch\n",
    "    print(f'Epoch [{epoch+1}/{epochs}], SNN Loss: {running_loss/len(train_loader):.4f}')\n",
    "\n",
    "# Testing (same modification)\n",
    "snn_model.eval()\n",
    "cnn_model.eval()\n",
    "correct = 0\n",
    "total = 0\n",
    "correct2 = 0  # Initialisiere die Variable für die CNN-Ergebnisse\n",
    "\n",
    "with torch.no_grad():\n",
    "    for images, labels in test_loader:\n",
    "        images = images.view(images.size(0), -1)\n",
    "        spikes = image_to_spikes(images, time_steps)\n",
    "        spikes_avg = average_spikes(spikes, time_steps).view(-1, 1, 28, 28)  # [batch_size, 1, 28, 28]\n",
    "\n",
    "        outputs = snn_model(spikes)\n",
    "        outputs2 = cnn_model(spikes_avg)\n",
    "\n",
    "        _, predicted = torch.max(outputs, 1)\n",
    "        _, predicted2 = torch.max(outputs2, 1)\n",
    "\n",
    "        total += labels.size(0)\n",
    "        correct += (predicted == labels).sum().item()\n",
    "        correct2 += (predicted2 == labels).sum().item()  # Diese Zeile wird jetzt funktionieren\n",
    "\n",
    "print(f'Accuracy (SNN): {100 * correct / total:.2f}%')\n",
    "print(f'Accuracy (CNN): {100 * correct2 / total:.2f}%')\n"
   ]
  }
 ],
 "metadata": {
  "kernelspec": {
   "display_name": "Python 3",
   "language": "python",
   "name": "python3"
  },
  "language_info": {
   "codemirror_mode": {
    "name": "ipython",
    "version": 3
   },
   "file_extension": ".py",
   "mimetype": "text/x-python",
   "name": "python",
   "nbconvert_exporter": "python",
   "pygments_lexer": "ipython3",
   "version": "3.11.9"
  }
 },
 "nbformat": 4,
 "nbformat_minor": 2
}
